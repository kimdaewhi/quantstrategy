{
 "cells": [
  {
   "cell_type": "code",
   "execution_count": null,
   "metadata": {},
   "outputs": [],
   "source": [
    "import datetime\n",
    "import os\n",
    "import sys\n",
    "import pandas as pd\n",
    "import FinanceDataReader as fdr\n",
    "\n",
    "from tabulate import tabulate\n",
    "from datetime import timedelta\n",
    "\n",
    "df_kospi = fdr.StockListing('KOSPI')\n",
    "df_kosdaq = fdr.StockListing('KOSDAQ')\n",
    "\n",
    "# 관리종목\n",
    "df_AdmStock = fdr.StockListing('KRX-ADMIN')\n",
    "\n",
    "df_krx = pd.concat([df_kospi, df_kosdaq])\n",
    "\n",
    "# 관리종목 및 우선주 제거(5, 7, 9, K)\n",
    "df_filterStk = df_krx[~df_krx['Code'].isin(df_AdmStock['Symbol'])]\n",
    "df_filterStk = df_filterStk[~df_filterStk['Code'].str.endswith(('5', '7', '9', 'K'))]\n",
    "\n",
    "df_filterStk[0:10]"
   ]
  },
  {
   "cell_type": "code",
   "execution_count": null,
   "metadata": {},
   "outputs": [],
   "source": [
    "df_filterStk['BF_HALF_YEAR_DATE'] = None\n",
    "df_filterStk['BF_HALF_YEAR_CLOSE'] = None\n",
    "\n",
    "initDate = datetime.date(2018, 12, 28)\n",
    "bfDate = initDate + timedelta(days=-180)    # 6개월 전 날짜\n",
    "\n",
    "\n",
    "for index, row in df_filterStk.iterrows():\n",
    "    stkCode = row['Code']\n",
    "    try:\n",
    "        df_stockPrice = fdr.DataReader(stkCode, bfDate, initDate)\n",
    "        bfPrice = df_stockPrice.iloc[0]['Close']\n",
    "        currPrice = df_stockPrice.iloc[-1]['Close']\n",
    "        \n",
    "        print(f'[{stkCode}] before Date : {df_stockPrice.iloc[0].name.strftime('%Y-%m-%d')}, {bfPrice} | curr Date : {df_stockPrice.iloc[-1].name.strftime('%Y-%m-%d')}, {currPrice}')\n",
    "    except Exception as e:\n",
    "        print(f'{e.args}')\n",
    "    "
   ]
  }
 ],
 "metadata": {
  "kernelspec": {
   "display_name": ".venv",
   "language": "python",
   "name": "python3"
  },
  "language_info": {
   "codemirror_mode": {
    "name": "ipython",
    "version": 3
   },
   "file_extension": ".py",
   "mimetype": "text/x-python",
   "name": "python",
   "nbconvert_exporter": "python",
   "pygments_lexer": "ipython3",
   "version": "3.12.2"
  }
 },
 "nbformat": 4,
 "nbformat_minor": 2
}
